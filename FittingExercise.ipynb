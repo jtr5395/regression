{
 "cells": [
  {
   "cell_type": "markdown",
   "metadata": {},
   "source": [
    "# Fitting of experimental chemical kinetics data\n",
    "You perform some experiments in a batch reactor to determine the rate expression and thermochemistry for the reversible chemical reaction\n",
    "$\\require{mhchem}$\n",
    "$$\\ce{A <=> B}$$\n",
    "\n",
    "Recall from thermodynamics that \n",
    "$\\Delta G = \\Delta H - T \\Delta S$\n",
    "and $\\Delta G = R T \\ln K_a$\n",
    "where $K_a$ is the activity-based equilibrium constant of the chemical reaction, $R$ is the molar gas constant (8.314 J/mol/K) and $T$ is the temperature in Kelvin.\n",
    "\n",
    "If we assume ideal solution (unit fugacity coefficients) then $K_a = K_c$ giving us the concentration-based equilibrium constant $K_c$. \n",
    "From kinetics you recall\n",
    "$K_c = \\frac{k_f}{k_r}$ \n",
    "where \n",
    "$k_f$ is the forward rate coefficient and $k_r$ is the reverse rate coefficient.\n",
    "i.e. the rate of the reaction $\\ce{A->B}$ is $k_f \\times C_A$\n",
    "and the reverse reaction $\\ce{B->A}$ is $k_r \\times C_B$\n",
    "where $C_A$ and $C_B$ are the concentrations of species A and B respectively. \n",
    "In a batch reactor $\\frac{dN_A}{dt} = r_{A(net)} V$, so (dividing through by the reactor volume $V$) $\\frac{dC_A}{dt} = r_{A(net)}$ where $r_{A(net)}$ is the net rate of formation of species A, i.e. $r_{A(net)} = k_r C_B - k_f C_A$.\n",
    "Assume the forward rate coefficient $k_f$ follows Arrhenius form, $k_f = A \\exp\\left(\\frac{-E_A}{R T}\\right)$ where $A$ is the \"pre-exponential factor\" and $E_A$ is the activation energy.\n",
    "\n",
    "Fortunately, in this case you have good reason to believe that species A and B have very similar temperature-dependent heat capacities, so that $\\Delta H_{rxn}$ and $\\Delta S_{rxn}$ are independent of temperature.\n",
    "\n",
    "You start the experiment with no B ($C_B=0$), and at time zero have some way to initiate the reaction, starting with a set concentration of $C_A$. \n",
    "\n",
    "You wish to determine the four paramaters:\n",
    "$log_{10} A$,\n",
    "$E_A$,\n",
    "$\\Delta H_{rxn}$,\n",
    "$\\Delta S_{rxn}$.\n",
    "\n",
    "Based on a literature search, quantum chemistry calculations, and prior experience, your current estimates are as follows:\n",
    "```\n",
    "logA = 6.  # base-ten logarithm of A in s^-1\n",
    "Ea = 45.   # Ea in kJ/mol\n",
    "dH = -10.  # ∆H in kJ/mol\n",
    "dS = -50.  # ∆S in J/mol/K\n",
    "```\n"
   ]
  },
  {
   "cell_type": "code",
   "execution_count": 1,
   "metadata": {
    "collapsed": true
   },
   "outputs": [],
   "source": [
    "%matplotlib inline\n",
    "import numpy as np\n",
    "import scipy.integrate\n",
    "from matplotlib import pyplot as plt\n",
    "\n",
    "import random\n",
    "import SALib as sa\n",
    "import SALib.sample\n",
    "from SALib.sample import morris as ms\n",
    "from SALib.analyze import morris as ma\n",
    "from SALib.plotting import morris as mp\n"
   ]
  },
  {
   "cell_type": "code",
   "execution_count": 2,
   "metadata": {
    "collapsed": true
   },
   "outputs": [],
   "source": [
    "# This cell just tries to make graphs look nicer\n",
    "try:\n",
    "    import seaborn as sns\n",
    "except ImportError:\n",
    "    # This block will be run if there's an ImportError, i.e you don't have seaborn installed.\n",
    "    sns = False\n",
    "    print (\"If you want to try different figure formatting, \"\n",
    "           \"type 'conda install seaborn' at an anaconda command prompt or terminal. \"\n",
    "           \"See https://stanford.edu/~mwaskom/software/seaborn/ for details\")\n",
    "    # If not using seaborn, we can still control the size of the figures this way\n",
    "    from pylab import rcParams\n",
    "    rcParams['figure.figsize'] = 3, 3\n",
    "else:\n",
    "    # This block will be run if there is no ImportError\n",
    "    sns.set_style(\"ticks\")\n",
    "    sns.set_context(\"paper\",rc={\"figure.figsize\": (2, 2)})"
   ]
  },
  {
   "cell_type": "markdown",
   "metadata": {},
   "source": [
    "We create a \"named tuple\" data type to store the exprimental data in."
   ]
  },
  {
   "cell_type": "code",
   "execution_count": 3,
   "metadata": {
    "collapsed": false
   },
   "outputs": [],
   "source": [
    "from collections import namedtuple\n",
    "ExperimentData = namedtuple('ExperimentData', ['T', 'cA_start', 'times', 'cA'])\n",
    "\n",
    "def plot_experiment(e):\n",
    "    \"\"\"\n",
    "    Plots the experimental data provided in 'e' \n",
    "    which should be of the type ExperimentData.\n",
    "    \"\"\"\n",
    "    plt.plot(0, e.cA_start, 'ko')\n",
    "    plt.plot(e.times, e.cA,':o', label=\"T={:.0f}K\".format(e.T))\n",
    "    plt.ylim(0,)\n",
    "    plt.ylabel('$C_A$ (mol/L)')\n",
    "    plt.xlabel('time (s)')\n",
    "    plt.legend()"
   ]
  },
  {
   "cell_type": "markdown",
   "metadata": {},
   "source": [
    "Now here are the data from your three experiments:"
   ]
  },
  {
   "cell_type": "code",
   "execution_count": 4,
   "metadata": {
    "collapsed": false
   },
   "outputs": [
    {
     "name": "stdout",
     "output_type": "stream",
     "text": [
      "Experiment 0 was at T=298.15K and ran for 100 seconds\n",
      "Experiment 1 was at T=308.15K and ran for 100 seconds\n",
      "Experiment 2 was at T=323.15K and ran for 100 seconds\n"
     ]
    },
    {
     "data": {
      "image/png": "[encoded data removed]",
      "text/plain": [
       "<matplotlib.figure.Figure at 0x2179c060048>"
      ]
     },
     "metadata": {},
     "output_type": "display_data"
    }
   ],
   "source": [
    "from numpy import array\n",
    "\n",
    "# added zero point to improve fit\n",
    "experiments = [ExperimentData(T=298.15, \n",
    "                              cA_start=10.0, \n",
    "                              times=array([ 0, 10,  20,  30,  40,  50,  60,  70,  80,  90, 100]), \n",
    "                              cA=array([ 10, 8.649,  7.441,  7.141,  6.366,  6.215, 5.990, 5.852,  5.615,  5.481 ,  5.644])), \n",
    "               ExperimentData(T=308.15, \n",
    "                              cA_start=10.0, \n",
    "                              times=array([ 0, 10,  20,  30,  40,  50,  60,  70,  80,  90, 100]), \n",
    "                              cA=array([ 10, 7.230,  6.073,  5.452,  5.317,  5.121, 4.998,  4.951,  4.978,  5.015,  5.036])), \n",
    "               ExperimentData(T=323.15, \n",
    "                              cA_start=10.0, \n",
    "                              times=array([ 0, 10,  20,  30,  40,  50,  60,  70,  80,  90, 100]), \n",
    "                              cA=array([ 10, 5.137,  4.568,  4.548,  4.461,  4.382, 4.525,  4.483,  4.565,  4.459,  4.635])),\n",
    "              ]\n",
    "\n",
    "for i,e in enumerate(experiments):\n",
    "    print(\"Experiment {} was at T={}K and ran for {} seconds\".format(i, e.T, e.times[-1]))\n",
    "    plot_experiment(e)"
   ]
  },
  {
   "cell_type": "code",
   "execution_count": 5,
   "metadata": {
    "collapsed": false
   },
   "outputs": [],
   "source": [
    "ParameterSet = namedtuple('ParameterSet', ['logA', 'Ea', 'dH', 'dS'])\n",
    "\n",
    "# This is a sensible starting guess for your fitting\n",
    "starting_guess = ParameterSet(\n",
    "    logA = 6. , # base-ten logarithm of A in s^-1\n",
    "    Ea = 45. , # Ea in kJ/mol\n",
    "    dH = -10. , # ∆H in kJ/mol\n",
    "    dS = -50.  # ∆S in J/mol/K\n",
    "    )\n",
    "\n",
    "# This should end up with your optimized parameters\n",
    "optimized_parameters = ParameterSet(0,0,0,0)\n",
    "\n",
    "\n",
    "# This should end up with your standard errors (one sigma)\n",
    "# for the uncertainties in the fitted parameters.\n",
    "# i.e. there should be a 68% chance the true value is \n",
    "# at least this close to your optimized parameter.\n",
    "standard_errors = ParameterSet(0,0,0,0)\n"
   ]
  },
  {
   "cell_type": "code",
   "execution_count": 6,
   "metadata": {
    "collapsed": true
   },
   "outputs": [],
   "source": [
    "R = 8.314"
   ]
  },
  {
   "cell_type": "code",
   "execution_count": 7,
   "metadata": {
    "collapsed": false
   },
   "outputs": [],
   "source": [
    "def concentrations(x):\n",
    "    c = 10\n",
    "    T = 298.15\n",
    "    R = 8.314\n",
    "    t = 20\n",
    "    \n",
    "    a = np.exp((x[2]*1000-T*x[3])/(R*T))\n",
    "    k = (10**x[0])*np.exp(-x[1]*1000/(R*T))\n",
    "    \n",
    "    return c/(a+1)+(10-(c/(a+1)))*np.exp(-t*(a*k+k)/a)"
   ]
  },
  {
   "cell_type": "code",
   "execution_count": 8,
   "metadata": {
    "collapsed": false
   },
   "outputs": [],
   "source": [
    "problem = {\n",
    "'num_vars': 4,\n",
    "'names': ['logA', 'Ea', 'dH', 'dS'],\n",
    "'bounds': [[0, 15],\n",
    "[0, 100],\n",
    "[-20, 0],\n",
    "[-100, 0]],\n",
    "'groups': None\n",
    "}"
   ]
  },
  {
   "cell_type": "code",
   "execution_count": 9,
   "metadata": {
    "collapsed": false
   },
   "outputs": [],
   "source": [
    "X = ms.sample(problem, 1000, num_levels=4, grid_jump=2)"
   ]
  },
  {
   "cell_type": "code",
   "execution_count": 10,
   "metadata": {
    "collapsed": false
   },
   "outputs": [],
   "source": [
    "Y = np.zeros(len(X))\n",
    "for i in range(len(X)):\n",
    "    Y[i] = concentrations(X[i])"
   ]
  },
  {
   "cell_type": "code",
   "execution_count": 11,
   "metadata": {
    "collapsed": false
   },
   "outputs": [
    {
     "name": "stdout",
     "output_type": "stream",
     "text": [
      "Parameter                         Mu_Star         Mu    Mu_Star_Conf      Sigma\n",
      "logA                                2.923     -2.923           0.165      5.031\n",
      "Ea                                  6.126      6.126           0.202      6.308\n",
      "dH                                  2.623     -2.623           0.133      4.112\n",
      "dS                                  4.764      4.764           0.179      5.645\n"
     ]
    }
   ],
   "source": [
    "Si = ma.analyze(problem, X, Y, conf_level=0.68, print_to_console=True, num_levels=4, grid_jump=2)"
   ]
  },
  {
   "cell_type": "markdown",
   "metadata": {},
   "source": [
    "This shows that all of the parameters are important, I think. This was kind of hard to get to work because the documentation was pretty limited when it came to actual use or what these terms mean."
   ]
  },
  {
   "cell_type": "markdown",
   "metadata": {},
   "source": [
    "Ok, now insert some cells to determine the optimized_parameters and their standard_errors."
   ]
  },
  {
   "cell_type": "code",
   "execution_count": 12,
   "metadata": {
    "collapsed": false
   },
   "outputs": [
    {
     "name": "stdout",
     "output_type": "stream",
     "text": [
      "Parameter 0: 7.1957687731370115 +/- 187958.96358559045 (1 st. dev.)\n",
      "Parameter 1: 51.20077013394707 +/- 1072811.9030912973 (1 st. dev.)\n",
      "Parameter 2: -17.582382612622418 +/- nan (1 st. dev.)\n",
      "Parameter 3: -57.4947988188988 +/- nan (1 st. dev.)\n"
     ]
    },
    {
     "data": {
      "image/png": "[encoded data removed]",
      "text/plain": [
       "<matplotlib.figure.Figure at 0x2179c110cc0>"
      ]
     },
     "metadata": {},
     "output_type": "display_data"
    },
    {
     "name": "stdout",
     "output_type": "stream",
     "text": [
      "Parameter 0: 9.590069453864988 +/- 40261.392494842636 (1 st. dev.)\n",
      "Parameter 1: 62.762486725421454 +/- 229799.58315383867 (1 st. dev.)\n",
      "Parameter 2: -9.345874000526097 +/- nan (1 st. dev.)\n",
      "Parameter 3: -31.348419987580538 +/- nan (1 st. dev.)\n"
     ]
    },
    {
     "data": {
      "image/png": "[encoded data removed]",
      "text/plain": [
       "<matplotlib.figure.Figure at 0x2179c1a54e0>"
      ]
     },
     "metadata": {},
     "output_type": "display_data"
    },
    {
     "name": "stdout",
     "output_type": "stream",
     "text": [
      "Parameter 0: 6.4869613377519295 +/- 221996.2147911906 (1 st. dev.)\n",
      "Parameter 1: 42.30321756212341 +/- 1267085.610255217 (1 st. dev.)\n",
      "Parameter 2: 7.104162827206379 +/- nan (1 st. dev.)\n",
      "Parameter 3: 22.176017292413903 +/- nan (1 st. dev.)\n"
     ]
    },
    {
     "data": {
      "image/png": "[encoded data removed]",
      "text/plain": [
       "<matplotlib.figure.Figure at 0x2179c9ec6a0>"
      ]
     },
     "metadata": {},
     "output_type": "display_data"
    }
   ],
   "source": [
    "def concentration(t, logA, Ea, dH, dS):\n",
    "    c = 10\n",
    "    R = 8.314\n",
    "    T = 298.15\n",
    "    \n",
    "    a = np.exp((dH*1000-T*dS)/(R*T))\n",
    "    k = (10**logA)*np.exp(-Ea*1000/(R*T))\n",
    "    \n",
    "    return c/(a+1)+(10-(c/(a+1)))*np.exp(-t*(a*k+k)/a)\n",
    "\n",
    "def report(optimal_parameters, covariance, a):\n",
    "    \"Make this a function so we can reuse it in cells below\"\n",
    "    parameter_errors = np.sqrt(np.diag(covariance))\n",
    "    for i in range(len(optimal_parameters)):\n",
    "        print(\"Parameter {}: {} +/- {} (1 st. dev.)\".format(i,\n",
    "                                                            optimal_parameters[i],\n",
    "                                                            parameter_errors[i]))\n",
    "\n",
    "    # Plot the data\n",
    "    plt.plot(experiments[a].times, experiments[a].cA, 'o', label='data')\n",
    "\n",
    "    # Make a new x array with 50 points for smoother lines\n",
    "    x_many_points = np.linspace(experiments[a].times.min(),experiments[a].times.max(),50)\n",
    "    # Plot the fitted curve\n",
    "    plt.plot(x_many_points, concentration(x_many_points, optimal_parameters[0], \n",
    "                                          optimal_parameters[1], \n",
    "                                          optimal_parameters[2], \n",
    "                                          optimal_parameters[3]), label='fitted')\n",
    "    # Add the legend, in the \"best\" location to avoid hiding the data\n",
    "    plt.legend(loc='best')\n",
    "    plt.show()\n",
    "\n",
    "\n",
    "for i in range(3):\n",
    "    # Fit the parameters to the imperfect x_data and y_data\n",
    "    optimal_parameters, covariance = scipy.optimize.curve_fit(concentration,\n",
    "                                                              experiments[i].times,\n",
    "                                                              experiments[i].cA, \n",
    "                                                              p0=starting_guess)\n",
    "    report(optimal_parameters, covariance, i)"
   ]
  },
  {
   "cell_type": "code",
   "execution_count": 13,
   "metadata": {
    "collapsed": false
   },
   "outputs": [
    {
     "name": "stdout",
     "output_type": "stream",
     "text": [
      "ParameterSet(logA=6.0, Ea=45.0, dH=-10.0, dS=-50.0)\n",
      "ParameterSet(logA=0, Ea=0, dH=0, dS=0)\n",
      "ParameterSet(logA=0, Ea=0, dH=0, dS=0)\n"
     ]
    }
   ],
   "source": [
    "# Finish your notebook with this cell\n",
    "print(starting_guess)\n",
    "print(optimized_parameters)\n",
    "print(standard_errors)"
   ]
  },
  {
   "cell_type": "code",
   "execution_count": 14,
   "metadata": {
    "collapsed": false
   },
   "outputs": [
    {
     "data": {
      "text/plain": [
       "(array([  6.,  45., -10., -50.]), 2)"
      ]
     },
     "execution_count": 14,
     "metadata": {},
     "output_type": "execute_result"
    }
   ],
   "source": [
    "from scipy.optimize import leastsq\n",
    "\n",
    "#+++++++++++++++++++++++++++++++++++++++++++++\n",
    "\n",
    "def concentration(t, T, logA, Ea, dH, dS):\n",
    "    c = 10\n",
    "    R = 8.314\n",
    "    \n",
    "    a = np.exp((dH*1000-T*dS)/(R*T))\n",
    "    k = (10**logA)*np.exp(-Ea*1000/(R*T))\n",
    "    \n",
    "    return c/(a+1)+(10-(c/(a+1)))*np.exp(-t*(a*k+k)/a)\n",
    "\n",
    "#+++++++++++++++++++++++++++++++++++++++++++++\n",
    "def leastsq_func(params, *args):\n",
    "    cc=args[0]   #number of curves\n",
    "    incs=args[1] #number of points \n",
    "    x=args[2]\n",
    "    y=args[3]\n",
    "    T=args[4:]\n",
    "\n",
    "    logA=params[0]\n",
    "    Ea=params[1]\n",
    "    dH=params[2]\n",
    "    dS=params[3]\n",
    "\n",
    "    Ca=np.empty(x.shape)\n",
    "    for i in range(cc):\n",
    "        v=i*incs\n",
    "        b=(i+1)*incs\n",
    "    if b<cc:\n",
    "        Ca[v:b]=concentration(x[v:b],T[i],logA,Ea,dH,dS)\n",
    "    else:\n",
    "        Ca[v:]=concentration(x[v:],T[i],logA,Ea,dH,dS)\n",
    "\n",
    "    return y-Ca\n",
    "#+++++++++++++++++++++++++++++++++++++++++++++\n",
    "Ts  =[experiments[0].T,\n",
    "      experiments[1].T,\n",
    "      experiments[2].T]    #3 T-values for 3 curves\n",
    "incs=11                    #11 datapoints in each curve\n",
    "x=np.hstack((experiments[0].times,\n",
    "            experiments[1].times,\n",
    "            experiments[2].times))   #all x-values\n",
    "y=np.hstack((experiments[0].cA,\n",
    "            experiments[1].cA,\n",
    "            experiments[2].cA))   #all y-values\n",
    "   \n",
    "\n",
    "params0=list(starting_guess)   #parameter guess\n",
    "\n",
    "args=[len(Ts),incs,x,y]\n",
    "for c in Ts:\n",
    "    args.append(c) \n",
    "args=tuple(args)   #doesn't work if args is a list!!\n",
    "\n",
    "result=leastsq(leastsq_func, params0, args=args)\n",
    "result"
   ]
  },
  {
   "cell_type": "code",
   "execution_count": 16,
   "metadata": {
    "collapsed": false
   },
   "outputs": [
    {
     "data": {
      "image/png": "[encoded data removed]",
      "text/plain": [
       "<matplotlib.figure.Figure at 0x2179cc645f8>"
      ]
     },
     "metadata": {},
     "output_type": "display_data"
    }
   ],
   "source": [
    "# Plot the data\n",
    "plt.plot(experiments[0].times, experiments[0].cA, 'o', label='data')\n",
    "\n",
    "# Make a new x array with 50 points for smoother lines\n",
    "x_many_points = np.linspace(experiments[0].times.min(),experiments[0].times.max(),50)\n",
    "\n",
    "# Plot the fitted curve\n",
    "plt.plot(x_many_points, concentration(x_many_points, experiments[0].T, \n",
    "                                      result[0][0], \n",
    "                                      result[0][1], \n",
    "                                      result[0][2], \n",
    "                                      result[0][3]), label='fitted')\n",
    "# Add the legend, in the \"best\" location to avoid hiding the data\n",
    "plt.legend(loc='best')\n",
    "plt.show()"
   ]
  },
  {
   "cell_type": "code",
   "execution_count": 17,
   "metadata": {
    "collapsed": false
   },
   "outputs": [
    {
     "data": {
      "text/plain": [
       "[<matplotlib.lines.Line2D at 0x217997c92e8>]"
      ]
     },
     "execution_count": 17,
     "metadata": {},
     "output_type": "execute_result"
    },
    {
     "data": {
      "image/png": "[encoded data removed]",
      "text/plain": [
       "<matplotlib.figure.Figure at 0x2179c159e48>"
      ]
     },
     "metadata": {},
     "output_type": "display_data"
    }
   ],
   "source": [
    "import numpy as np\n",
    "from scipy import optimize\n",
    "\n",
    "def f( x, p0, p1, p2):\n",
    "    return p0*x + 0.4*np.sin(p1*x) + p2\n",
    "\n",
    "def concentration(t, logA, Ea, dH, dS):\n",
    "    c = 10\n",
    "    R = 8.314\n",
    "    T = 298.15\n",
    "    \n",
    "    a = np.exp((dH*1000-T*dS)/(R*T))\n",
    "    k = (10**logA)*np.exp(-Ea*1000/(R*T))\n",
    "    \n",
    "    return c/(a+1)+(10-(c/(a+1)))*np.exp(-t*(a*k+k)/a)\n",
    "\n",
    "def ff(x, p):\n",
    "    return f(x, *p)\n",
    "\n",
    "# These are the true parameters\n",
    "p0 = 1.0\n",
    "p1 = 40\n",
    "p2 = 2.0\n",
    "\n",
    "# These are initial guesses for fits:\n",
    "pstart = [\n",
    "    p0 + random.random(),\n",
    "    p1 + 5.*random.random(), \n",
    "    p2 + random.random()\n",
    "]\n",
    "\n",
    "%matplotlib inline\n",
    "import matplotlib.pyplot as plt\n",
    "xvals = np.linspace(0., 1, 120)\n",
    "yvals = f(xvals, p0, p1, p2)\n",
    "\n",
    "# Generate data with a bit of randomness\n",
    "xdata = np.array(xvals)\n",
    "np.random.seed(42)\n",
    "err_stdev = 0.2\n",
    "yvals_err =  np.random.normal(0., err_stdev, len(xdata))\n",
    "ydata = f(xdata, p0, p1, p2) + yvals_err\n",
    "\n",
    "plt.plot(xvals, yvals)\n",
    "plt.plot(xdata, ydata, 'o')"
   ]
  },
  {
   "cell_type": "code",
   "execution_count": 23,
   "metadata": {
    "collapsed": false
   },
   "outputs": [
    {
     "name": "stdout",
     "output_type": "stream",
     "text": [
      "\n",
      "Fit parameters and parameter errors from bootstrap method :\n",
      "pfit =  [  1.04169113  39.97397339   1.96451981]\n",
      "perr =  [ 0.06305353  0.12100965  0.03462366]\n"
     ]
    }
   ],
   "source": [
    "def fit_bootstrap(p0, datax, datay, function, yerr_systematic=0.0):\n",
    "\n",
    "    errfunc = lambda p, x, y: function(x,p) - y\n",
    "\n",
    "    # Fit first time\n",
    "    pfit, perr = optimize.leastsq(errfunc, p0, args=(datax, datay), full_output=0)\n",
    "\n",
    "\n",
    "    # Get the stdev of the residuals\n",
    "    residuals = errfunc(pfit, datax, datay)\n",
    "    sigma_res = np.std(residuals)\n",
    "\n",
    "    sigma_err_total = np.sqrt(sigma_res**2 + yerr_systematic**2)\n",
    "\n",
    "    # 100 random data sets are generated and fitted\n",
    "    ps = []\n",
    "    for i in range(100):\n",
    "\n",
    "        randomDelta = np.random.normal(0., sigma_err_total, len(datay))\n",
    "        randomdataY = datay + randomDelta\n",
    "\n",
    "        randomfit, randomcov = \\\n",
    "            optimize.leastsq(errfunc, p0, args=(datax, randomdataY),\\\n",
    "                             full_output=0)\n",
    "\n",
    "        ps.append(randomfit) \n",
    "\n",
    "    ps = np.array(ps)\n",
    "    mean_pfit = np.mean(ps,0)\n",
    "\n",
    "    # You can choose the confidence interval that you want for your\n",
    "    # parameter estimates: \n",
    "    Nsigma = 1. # 1sigma gets approximately the same as methods above\n",
    "                # 1sigma corresponds to 68.3% confidence interval\n",
    "                # 2sigma corresponds to 95.44% confidence interval\n",
    "    err_pfit = Nsigma * np.std(ps,0) \n",
    "\n",
    "    pfit_bootstrap = mean_pfit\n",
    "    perr_bootstrap = err_pfit\n",
    "    return pfit_bootstrap, perr_bootstrap \n",
    "\n",
    "pfit, perr = fit_bootstrap(pstart, xdata, ydata, ff)\n",
    "\n",
    "print(\"\\nFit parameters and parameter errors from bootstrap method :\")\n",
    "print(\"pfit = \", pfit)\n",
    "print(\"perr = \", perr)"
   ]
  },
  {
   "cell_type": "code",
   "execution_count": null,
   "metadata": {
    "collapsed": true
   },
   "outputs": [],
   "source": []
  }
 ],
 "metadata": {
  "anaconda-cloud": {},
  "kernelspec": {
   "display_name": "Python [conda root]",
   "language": "python",
   "name": "conda-root-py"
  },
  "language_info": {
   "codemirror_mode": {
    "name": "ipython",
    "version": 3
   },
   "file_extension": ".py",
   "mimetype": "text/x-python",
   "name": "python",
   "nbconvert_exporter": "python",
   "pygments_lexer": "ipython3",
   "version": "3.5.2"
  }
 },
 "nbformat": 4,
 "nbformat_minor": 1
}
